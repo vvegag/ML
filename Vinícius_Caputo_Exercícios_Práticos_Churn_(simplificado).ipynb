{
  "nbformat": 4,
  "nbformat_minor": 0,
  "metadata": {
    "colab": {
      "provenance": [],
      "include_colab_link": true
    },
    "kernelspec": {
      "name": "python3",
      "display_name": "Python 3"
    },
    "language_info": {
      "name": "python"
    }
  },
  "cells": [
    {
      "cell_type": "markdown",
      "metadata": {
        "id": "view-in-github",
        "colab_type": "text"
      },
      "source": [
        "<a href=\"https://colab.research.google.com/github/C4puto/Machine-Learning/blob/main/Vin%C3%ADcius_Caputo_Exerc%C3%ADcios_Pr%C3%A1ticos_Churn_(simplificado).ipynb\" target=\"_parent\"><img src=\"https://colab.research.google.com/assets/colab-badge.svg\" alt=\"Open In Colab\"/></a>"
      ]
    },
    {
      "cell_type": "markdown",
      "source": [
        "### Sobre o notebook\n",
        "\n",
        "Esse notebook contém diversos desafios envolvendo os aprendizados de cada aula. É um notebook construído com o enunciado de cada desafio e com espaço para construir e executar suas soluções. Se for necessário adicionar mais células de código para solucionar o desafio, fique à vontade para acrescentar."
      ],
      "metadata": {
        "id": "JSmQszYMPo_1"
      }
    },
    {
      "cell_type": "markdown",
      "source": [
        "### Desafio 1:\n",
        "\n",
        "A primeira etapa em um projeto de machine learning é a obtenção de dados. A partir dessa obtenção, podemos fazer a leitura dos dados para se construir um modelo. Como tarefa inicial, faça a leitura da base de dados e verifique a presença de dados nulos."
      ],
      "metadata": {
        "id": "wSTJl9OuPb0H"
      }
    },
    {
      "cell_type": "code",
      "source": [],
      "metadata": {
        "id": "Itcxmo70XR7H"
      },
      "execution_count": null,
      "outputs": []
    },
    {
      "cell_type": "markdown",
      "source": [
        "### Desafio 2\n",
        "\n",
        "Após a leitura dos dados, é importante conhecer os dados, checando inconsistências e entendendo o comportamento de cada uma das colunas. Nesta tarefa, faça uma análise exploratória utilizando gráficos para as **variáveis categóricas** da base de dados, incluindo a **variável alvo** churn. Para essas variáveis, pode ser utilizado gráficos de barras para fazer a contagem das categorias e fazer um agrupamento por cores de acordo com as categorias da variável alvo."
      ],
      "metadata": {
        "id": "8ZPSH4H3P8LU"
      }
    },
    {
      "cell_type": "code",
      "source": [],
      "metadata": {
        "id": "9PM9qRzWXTg-"
      },
      "execution_count": null,
      "outputs": []
    },
    {
      "cell_type": "markdown",
      "source": [
        "### Desafio 3\n",
        "\n",
        "Depois de explorar as variáveis categóricas, chegou a vez das **variáveis numéricas**. Construa gráficos de distribuição como boxplots ou histogramas para analisar o comportamento dos valores numéricos e checar se existem valores inconsistentes."
      ],
      "metadata": {
        "id": "q-RicuVhQBoc"
      }
    },
    {
      "cell_type": "code",
      "source": [],
      "metadata": {
        "id": "0hFNXi7OXW4e"
      },
      "execution_count": null,
      "outputs": []
    },
    {
      "cell_type": "markdown",
      "source": [
        "### Desafio 4:\n",
        "\n",
        "Para utilizar os dados nos algoritmos de Machine Learning, precisamos informar quais são as variáveis explicativas e qual é a variável alvo. Neste desafio, faça a separação da base de dados de churn entre as variáveis explicativas, armazenando em uma variável x e a variável alvo em y.\n"
      ],
      "metadata": {
        "id": "IlXchc6wULDL"
      }
    },
    {
      "cell_type": "code",
      "source": [],
      "metadata": {
        "id": "_u8tIavqXYlu"
      },
      "execution_count": null,
      "outputs": []
    },
    {
      "cell_type": "markdown",
      "source": [
        "### Desafio 5:\n",
        "\n",
        "Variáveis categóricas que estejam em formato de texto não podem ser utilizadas diretamente nos modelos de Machine Learning. Neste desafio, faça a transformação das variáveis categóricas para formato numérico usando o [`OneHotEncoder`](https://scikit-learn.org/stable/modules/generated/sklearn.preprocessing.OneHotEncoder.html), utilizando o parâmetro `drop='if_binary'` caso alguma variável tenha apenas 2 categorias."
      ],
      "metadata": {
        "id": "Qgmar7K8UNAs"
      }
    },
    {
      "cell_type": "code",
      "source": [],
      "metadata": {
        "id": "uqhKKcCAXZUd"
      },
      "execution_count": null,
      "outputs": []
    },
    {
      "cell_type": "markdown",
      "source": [
        "### Desafio 6:\n",
        "\n",
        "A variável alvo, como é do tipo categórica, também precisa passar por um tratamento similar às variáveis explicativas categóricas para que possa ser usada nos algoritmos. Nessa tarefa, utilize o método [`LabelEncoder`](https://scikit-learn.org/stable/modules/generated/sklearn.preprocessing.LabelEncoder.html) para fazer a transformação da variável churn."
      ],
      "metadata": {
        "id": "hBNVuwZzUOhc"
      }
    },
    {
      "cell_type": "code",
      "source": [],
      "metadata": {
        "id": "ZjUoT3gnXaw8"
      },
      "execution_count": null,
      "outputs": []
    },
    {
      "cell_type": "markdown",
      "source": [
        "### Desafio 7:\n",
        "\n",
        "A separação dos dados entre conjunto de treinamento e teste é essencial para compreender se um modelo está conseguindo aprender os padrões e generalizar para novos dados. Nesta tarefa, faça a divisão da base de dados entre treinamento e teste de forma estratificada."
      ],
      "metadata": {
        "id": "s3GxpsD-UZ38"
      }
    },
    {
      "cell_type": "code",
      "source": [],
      "metadata": {
        "id": "23AZi7nEXb4M"
      },
      "execution_count": null,
      "outputs": []
    },
    {
      "cell_type": "markdown",
      "source": [
        "### Desafio 8:\n",
        "\n",
        "Um modelo de base é muito importante para definir um critério de comparação para modelos mais complexos. Nesta etapa, crie um modelo de base com o `DummyClassifier` e encontre a taxa de acerto com o método `score`."
      ],
      "metadata": {
        "id": "FETFwuwwUbJ-"
      }
    },
    {
      "cell_type": "code",
      "source": [],
      "metadata": {
        "id": "5e8lSjNyXcsu"
      },
      "execution_count": null,
      "outputs": []
    },
    {
      "cell_type": "markdown",
      "source": [
        "### Desafio 9:\n",
        "\n",
        "A árvore de decisão é um algoritmo que faz as classificações a partir de decisões simples tomadas a partir dos dados. Temos que tomar certo cuidado para não utilizar uma profundidade muito grande, porque isso pode provocar um sobreajuste do modelo aos dados de treinamento. Neste desafio, crie um modelo de árvore de decisão com o parâmetro `max_depth=4`, avalie o desempenho do modelo nos dados de teste e visualize as decisões da árvore usando o método `plot_tree`."
      ],
      "metadata": {
        "id": "fdYqWTEjUcqb"
      }
    },
    {
      "cell_type": "code",
      "source": [],
      "metadata": {
        "id": "3xam1HfrXdl8"
      },
      "execution_count": null,
      "outputs": []
    },
    {
      "cell_type": "markdown",
      "source": [
        "### Desafio 10:\n",
        "\n",
        "A normalização de dados é uma tarefa importante para manter todos os valores numéricos em uma mesma escala e garantir que todas as características tenham o mesmo impacto no modelo. Nesta tarefa, faça a normalização da base de dados usando o [`MinMaxScaler`](https://scikit-learn.org/stable/modules/generated/sklearn.preprocessing.MinMaxScaler.html).\n"
      ],
      "metadata": {
        "id": "quRn8_TRUfCz"
      }
    },
    {
      "cell_type": "code",
      "source": [],
      "metadata": {
        "id": "i4jsDRGnXewc"
      },
      "execution_count": null,
      "outputs": []
    },
    {
      "cell_type": "markdown",
      "source": [
        "### Desafio 11:\n",
        "\n",
        "Com os dados normalizados, podemos utilizar o modelo KNN, que faz cálculos de distância para encontrar os vizinhos mais próximos. Nesta atividade, crie um modelo KNN usando o [`KNeighborsClassifier`](https://scikit-learn.org/stable/modules/generated/sklearn.neighbors.KNeighborsClassifier.html) com os dados normalizados e avalie o desempenho nos dados de teste, também normalizados."
      ],
      "metadata": {
        "id": "XWAZKi0ZUgSF"
      }
    },
    {
      "cell_type": "code",
      "source": [],
      "metadata": {
        "id": "fr7ntlW3Xf78"
      },
      "execution_count": null,
      "outputs": []
    },
    {
      "cell_type": "markdown",
      "source": [
        "### Desafio 12:\n",
        "\n",
        "Após a construção dos modelos, é o momento de comparar os resultados e selecionar aquele que tem o melhor desempenho. Neste desafio, avalie a taxa de acerto dos modelos `DummyClassifier`, `DecisionTreeClassifier` e `KNeighborsClassifier` que foram construídos nos outros desafios utilizando o método `score` e depois armazene o modelo com melhor acurácia em um arquivo `pickle`. Os modelos de transformação também precisam ser armazenados, que é o caso do `OneHotEncoder` e do `MinMaxScaler`, caso o KNN tenha o melhor desempenho."
      ],
      "metadata": {
        "id": "vJvhc1q6UitM"
      }
    },
    {
      "cell_type": "code",
      "source": [],
      "metadata": {
        "id": "lInFFop-XhD1"
      },
      "execution_count": null,
      "outputs": []
    },
    {
      "cell_type": "markdown",
      "source": [
        "### Desafio 13:\n",
        "\n",
        "Depois que o modelo está em produção, já pode ser utilizado para classificar novos dados. Neste desafio, faça a leitura dos arquivos `pickle` dos modelos que foram salvos no desafio anterior e utilize os modelos para fazer a previsão do seguinte registro:\n",
        "\n",
        "```\n",
        "novo_dado = pd.DataFrame({\n",
        "    'score_credito': [850],\n",
        "    'pais':['França'],\n",
        "    'sexo_biologico':['Homem'],\n",
        "    'idade': [27],\n",
        "    'anos_de_cliente': [3],\n",
        "    'saldo': [56000],\n",
        "    'servicos_adquiridos': [1],\n",
        "    'tem_cartao_credito': ['sim'],\n",
        "    'membro_ativo': ['sim'],\n",
        "    'salario_estimado': [85270.00]\n",
        "})\n",
        "```\n"
      ],
      "metadata": {
        "id": "bk5GOCkEj1Ch"
      }
    },
    {
      "cell_type": "code",
      "source": [],
      "metadata": {
        "id": "dhMqPwyLXiSN"
      },
      "execution_count": null,
      "outputs": []
    }
  ]
}